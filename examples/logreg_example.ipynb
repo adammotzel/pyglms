{
 "cells": [
  {
   "cell_type": "markdown",
   "id": "31c8593d-34a2-44e8-b996-2ba4b8d5ac55",
   "metadata": {},
   "source": [
    "# Logistic Regression (LogReg) Example\n",
    "\n",
    "This is a SIMPLE sample implementation of Logistic Regression using the `turtles` `LogReg` class and various supporting functions.\n",
    "\n",
    "The `LogReg` class implements Logistic Regression using Maximum Likelihood Estimation (MLE) for parameter estimation."
   ]
  },
  {
   "cell_type": "code",
   "execution_count": 1,
   "id": "0233c357-1c17-480e-a12d-4167c18e0811",
   "metadata": {},
   "outputs": [],
   "source": [
    "import time\n",
    "\n",
    "import numpy as np\n",
    "from sklearn.datasets import load_breast_cancer\n",
    "from sklearn.model_selection import train_test_split\n",
    "\n",
    "from turtles.stats.glms import LogReg\n",
    "from turtles.stats import (\n",
    "    variance_inflation_factor,\n",
    "    pca\n",
    ")"
   ]
  },
  {
   "cell_type": "code",
   "execution_count": 2,
   "id": "19852d76-1543-4081-b858-63bb280d423e",
   "metadata": {},
   "outputs": [],
   "source": [
    "random_state = 5\n",
    "test_size = 0.2"
   ]
  },
  {
   "cell_type": "code",
   "execution_count": 3,
   "id": "fef7c5ee-97e1-493d-ab30-33824386a3cf",
   "metadata": {},
   "outputs": [
    {
     "name": "stdout",
     "output_type": "stream",
     "text": [
      "X: (569, 30)\n",
      "y: (569,)\n"
     ]
    }
   ],
   "source": [
    "# load sample data\n",
    "X, y = load_breast_cancer(return_X_y=True)\n",
    "\n",
    "print(\"X:\", X.shape)\n",
    "print(\"y:\", y.shape)"
   ]
  },
  {
   "cell_type": "code",
   "execution_count": 4,
   "id": "057192bf-8f61-4a14-bd3d-cba783d70076",
   "metadata": {},
   "outputs": [],
   "source": [
    "# create splits\n",
    "Xtrain, Xtest, Ytrain, Ytest = train_test_split(\n",
    "    X, \n",
    "    y, \n",
    "    test_size=test_size, \n",
    "    random_state=random_state\n",
    ")\n",
    "\n",
    "Ytrain = Ytrain.reshape(Ytrain.shape[0], 1)\n",
    "Ytest = Ytest.reshape(Ytest.shape[0], 1)"
   ]
  },
  {
   "cell_type": "code",
   "execution_count": 5,
   "id": "3487ba40-89eb-4a3e-892d-42d5732f727c",
   "metadata": {},
   "outputs": [
    {
     "name": "stdout",
     "output_type": "stream",
     "text": [
      "VIF Table:\n"
     ]
    },
    {
     "data": {
      "text/html": [
       "<div>\n",
       "<style scoped>\n",
       "    .dataframe tbody tr th:only-of-type {\n",
       "        vertical-align: middle;\n",
       "    }\n",
       "\n",
       "    .dataframe tbody tr th {\n",
       "        vertical-align: top;\n",
       "    }\n",
       "\n",
       "    .dataframe thead th {\n",
       "        text-align: right;\n",
       "    }\n",
       "</style>\n",
       "<table border=\"1\" class=\"dataframe\">\n",
       "  <thead>\n",
       "    <tr style=\"text-align: right;\">\n",
       "      <th></th>\n",
       "      <th>Coefficient</th>\n",
       "      <th>R-squared</th>\n",
       "      <th>VIF</th>\n",
       "    </tr>\n",
       "  </thead>\n",
       "  <tbody>\n",
       "    <tr>\n",
       "      <th>0</th>\n",
       "      <td>x0</td>\n",
       "      <td>0.999729</td>\n",
       "      <td>3692.842120</td>\n",
       "    </tr>\n",
       "    <tr>\n",
       "      <th>1</th>\n",
       "      <td>x1</td>\n",
       "      <td>0.911654</td>\n",
       "      <td>11.319176</td>\n",
       "    </tr>\n",
       "    <tr>\n",
       "      <th>2</th>\n",
       "      <td>x2</td>\n",
       "      <td>0.999730</td>\n",
       "      <td>3702.834171</td>\n",
       "    </tr>\n",
       "    <tr>\n",
       "      <th>3</th>\n",
       "      <td>x3</td>\n",
       "      <td>0.996914</td>\n",
       "      <td>324.095944</td>\n",
       "    </tr>\n",
       "    <tr>\n",
       "      <th>4</th>\n",
       "      <td>x4</td>\n",
       "      <td>0.878489</td>\n",
       "      <td>8.229712</td>\n",
       "    </tr>\n",
       "    <tr>\n",
       "      <th>5</th>\n",
       "      <td>x5</td>\n",
       "      <td>0.977671</td>\n",
       "      <td>44.784059</td>\n",
       "    </tr>\n",
       "    <tr>\n",
       "      <th>6</th>\n",
       "      <td>x6</td>\n",
       "      <td>0.986572</td>\n",
       "      <td>74.472502</td>\n",
       "    </tr>\n",
       "    <tr>\n",
       "      <th>7</th>\n",
       "      <td>x7</td>\n",
       "      <td>0.982589</td>\n",
       "      <td>57.434044</td>\n",
       "    </tr>\n",
       "    <tr>\n",
       "      <th>8</th>\n",
       "      <td>x8</td>\n",
       "      <td>0.763329</td>\n",
       "      <td>4.225272</td>\n",
       "    </tr>\n",
       "    <tr>\n",
       "      <th>9</th>\n",
       "      <td>x9</td>\n",
       "      <td>0.932192</td>\n",
       "      <td>14.747468</td>\n",
       "    </tr>\n",
       "    <tr>\n",
       "      <th>10</th>\n",
       "      <td>x10</td>\n",
       "      <td>0.986884</td>\n",
       "      <td>76.243183</td>\n",
       "    </tr>\n",
       "    <tr>\n",
       "      <th>11</th>\n",
       "      <td>x11</td>\n",
       "      <td>0.763392</td>\n",
       "      <td>4.226404</td>\n",
       "    </tr>\n",
       "    <tr>\n",
       "      <th>12</th>\n",
       "      <td>x12</td>\n",
       "      <td>0.986061</td>\n",
       "      <td>71.741987</td>\n",
       "    </tr>\n",
       "    <tr>\n",
       "      <th>13</th>\n",
       "      <td>x13</td>\n",
       "      <td>0.976323</td>\n",
       "      <td>42.234775</td>\n",
       "    </tr>\n",
       "    <tr>\n",
       "      <th>14</th>\n",
       "      <td>x14</td>\n",
       "      <td>0.763952</td>\n",
       "      <td>4.236429</td>\n",
       "    </tr>\n",
       "    <tr>\n",
       "      <th>15</th>\n",
       "      <td>x15</td>\n",
       "      <td>0.932522</td>\n",
       "      <td>14.819682</td>\n",
       "    </tr>\n",
       "    <tr>\n",
       "      <th>16</th>\n",
       "      <td>x16</td>\n",
       "      <td>0.937429</td>\n",
       "      <td>15.981861</td>\n",
       "    </tr>\n",
       "    <tr>\n",
       "      <th>17</th>\n",
       "      <td>x17</td>\n",
       "      <td>0.914721</td>\n",
       "      <td>11.726262</td>\n",
       "    </tr>\n",
       "    <tr>\n",
       "      <th>18</th>\n",
       "      <td>x18</td>\n",
       "      <td>0.819914</td>\n",
       "      <td>5.552906</td>\n",
       "    </tr>\n",
       "    <tr>\n",
       "      <th>19</th>\n",
       "      <td>x19</td>\n",
       "      <td>0.910223</td>\n",
       "      <td>11.138697</td>\n",
       "    </tr>\n",
       "    <tr>\n",
       "      <th>20</th>\n",
       "      <td>x20</td>\n",
       "      <td>0.998743</td>\n",
       "      <td>795.312666</td>\n",
       "    </tr>\n",
       "    <tr>\n",
       "      <th>21</th>\n",
       "      <td>x21</td>\n",
       "      <td>0.943177</td>\n",
       "      <td>17.598584</td>\n",
       "    </tr>\n",
       "    <tr>\n",
       "      <th>22</th>\n",
       "      <td>x22</td>\n",
       "      <td>0.997676</td>\n",
       "      <td>430.206094</td>\n",
       "    </tr>\n",
       "    <tr>\n",
       "      <th>23</th>\n",
       "      <td>x23</td>\n",
       "      <td>0.996837</td>\n",
       "      <td>316.138834</td>\n",
       "    </tr>\n",
       "    <tr>\n",
       "      <th>24</th>\n",
       "      <td>x24</td>\n",
       "      <td>0.911266</td>\n",
       "      <td>11.269613</td>\n",
       "    </tr>\n",
       "    <tr>\n",
       "      <th>25</th>\n",
       "      <td>x25</td>\n",
       "      <td>0.974138</td>\n",
       "      <td>38.666432</td>\n",
       "    </tr>\n",
       "    <tr>\n",
       "      <th>26</th>\n",
       "      <td>x26</td>\n",
       "      <td>0.968831</td>\n",
       "      <td>32.083413</td>\n",
       "    </tr>\n",
       "    <tr>\n",
       "      <th>27</th>\n",
       "      <td>x27</td>\n",
       "      <td>0.972495</td>\n",
       "      <td>36.357129</td>\n",
       "    </tr>\n",
       "    <tr>\n",
       "      <th>28</th>\n",
       "      <td>x28</td>\n",
       "      <td>0.891415</td>\n",
       "      <td>9.209396</td>\n",
       "    </tr>\n",
       "    <tr>\n",
       "      <th>29</th>\n",
       "      <td>x29</td>\n",
       "      <td>0.949231</td>\n",
       "      <td>19.697208</td>\n",
       "    </tr>\n",
       "  </tbody>\n",
       "</table>\n",
       "</div>"
      ],
      "text/plain": [
       "   Coefficient  R-squared          VIF\n",
       "0           x0   0.999729  3692.842120\n",
       "1           x1   0.911654    11.319176\n",
       "2           x2   0.999730  3702.834171\n",
       "3           x3   0.996914   324.095944\n",
       "4           x4   0.878489     8.229712\n",
       "5           x5   0.977671    44.784059\n",
       "6           x6   0.986572    74.472502\n",
       "7           x7   0.982589    57.434044\n",
       "8           x8   0.763329     4.225272\n",
       "9           x9   0.932192    14.747468\n",
       "10         x10   0.986884    76.243183\n",
       "11         x11   0.763392     4.226404\n",
       "12         x12   0.986061    71.741987\n",
       "13         x13   0.976323    42.234775\n",
       "14         x14   0.763952     4.236429\n",
       "15         x15   0.932522    14.819682\n",
       "16         x16   0.937429    15.981861\n",
       "17         x17   0.914721    11.726262\n",
       "18         x18   0.819914     5.552906\n",
       "19         x19   0.910223    11.138697\n",
       "20         x20   0.998743   795.312666\n",
       "21         x21   0.943177    17.598584\n",
       "22         x22   0.997676   430.206094\n",
       "23         x23   0.996837   316.138834\n",
       "24         x24   0.911266    11.269613\n",
       "25         x25   0.974138    38.666432\n",
       "26         x26   0.968831    32.083413\n",
       "27         x27   0.972495    36.357129\n",
       "28         x28   0.891415     9.209396\n",
       "29         x29   0.949231    19.697208"
      ]
     },
     "metadata": {},
     "output_type": "display_data"
    }
   ],
   "source": [
    "# EDA\n",
    "\n",
    "# check for multicollinearity\n",
    "vifs = variance_inflation_factor(Xtrain)\n",
    "print(\"VIF Table:\")\n",
    "display(vifs)"
   ]
  },
  {
   "cell_type": "code",
   "execution_count": 6,
   "id": "07bc1541-8a07-47b0-bbd8-e2dee3d0a832",
   "metadata": {},
   "outputs": [
    {
     "name": "stdout",
     "output_type": "stream",
     "text": [
      "Xtrain: (455, 2)\n",
      "Xtest: (114, 2)\n",
      "Ytrain: (455, 1)\n",
      "Ytest (114, 1)\n",
      "\n"
     ]
    }
   ],
   "source": [
    "# there appears to be significant multicollinearity\n",
    "# let's use PCA to reduce the dimensions, then re-split the data\n",
    "X = pca(X, 2)\n",
    "\n",
    "Xtrain, Xtest, Ytrain, Ytest = train_test_split(\n",
    "    X, \n",
    "    y, \n",
    "    test_size=0.2, \n",
    "    random_state=5\n",
    ")\n",
    "\n",
    "Ytrain = Ytrain.reshape(Ytrain.shape[0], 1)\n",
    "Ytest = Ytest.reshape(Ytest.shape[0], 1)\n",
    "\n",
    "print(\"Xtrain:\", Xtrain.shape)\n",
    "print(\"Xtest:\", Xtest.shape)\n",
    "print(\"Ytrain:\", Ytrain.shape)\n",
    "print(\"Ytest\", Ytest.shape)\n",
    "print()"
   ]
  },
  {
   "cell_type": "code",
   "execution_count": 7,
   "id": "8435d762",
   "metadata": {},
   "outputs": [
    {
     "name": "stdout",
     "output_type": "stream",
     "text": [
      "VIF Table:\n"
     ]
    },
    {
     "data": {
      "text/html": [
       "<div>\n",
       "<style scoped>\n",
       "    .dataframe tbody tr th:only-of-type {\n",
       "        vertical-align: middle;\n",
       "    }\n",
       "\n",
       "    .dataframe tbody tr th {\n",
       "        vertical-align: top;\n",
       "    }\n",
       "\n",
       "    .dataframe thead th {\n",
       "        text-align: right;\n",
       "    }\n",
       "</style>\n",
       "<table border=\"1\" class=\"dataframe\">\n",
       "  <thead>\n",
       "    <tr style=\"text-align: right;\">\n",
       "      <th></th>\n",
       "      <th>Coefficient</th>\n",
       "      <th>R-squared</th>\n",
       "      <th>VIF</th>\n",
       "    </tr>\n",
       "  </thead>\n",
       "  <tbody>\n",
       "    <tr>\n",
       "      <th>0</th>\n",
       "      <td>x0</td>\n",
       "      <td>0.011005</td>\n",
       "      <td>1.011127</td>\n",
       "    </tr>\n",
       "    <tr>\n",
       "      <th>1</th>\n",
       "      <td>x1</td>\n",
       "      <td>0.011005</td>\n",
       "      <td>1.011127</td>\n",
       "    </tr>\n",
       "  </tbody>\n",
       "</table>\n",
       "</div>"
      ],
      "text/plain": [
       "  Coefficient  R-squared       VIF\n",
       "0          x0   0.011005  1.011127\n",
       "1          x1   0.011005  1.011127"
      ]
     },
     "metadata": {},
     "output_type": "display_data"
    }
   ],
   "source": [
    "# check for multicollinearity again\n",
    "vifs = variance_inflation_factor(Xtrain)\n",
    "print(\"VIF Table:\")\n",
    "display(vifs)"
   ]
  },
  {
   "cell_type": "code",
   "execution_count": 8,
   "id": "4d09102b-eaf4-4ffd-b005-b51a60d042ca",
   "metadata": {},
   "outputs": [],
   "source": [
    "# fit model using newtons method\n",
    "# tune hyperparameters as needed\n",
    "n_model = LogReg(\n",
    "    method=\"newton\",\n",
    "    learning_rate=0.1,\n",
    "    tolerance=0.00001\n",
    ")"
   ]
  },
  {
   "cell_type": "code",
   "execution_count": 9,
   "id": "bfedb090-f995-4ab6-b537-0f36137ad21a",
   "metadata": {},
   "outputs": [
    {
     "name": "stdout",
     "output_type": "stream",
     "text": [
      "Newtons time to fit: 0.01765751838684082\n",
      "Newtons Iterations: 120\n",
      "\n",
      "Newtons Method Model Summary:\n",
      "\n"
     ]
    },
    {
     "data": {
      "text/html": [
       "<div>\n",
       "<style scoped>\n",
       "    .dataframe tbody tr th:only-of-type {\n",
       "        vertical-align: middle;\n",
       "    }\n",
       "\n",
       "    .dataframe tbody tr th {\n",
       "        vertical-align: top;\n",
       "    }\n",
       "\n",
       "    .dataframe thead th {\n",
       "        text-align: right;\n",
       "    }\n",
       "</style>\n",
       "<table border=\"1\" class=\"dataframe\">\n",
       "  <thead>\n",
       "    <tr style=\"text-align: right;\">\n",
       "      <th></th>\n",
       "      <th>Variable</th>\n",
       "      <th>Coefficient</th>\n",
       "      <th>Std Error</th>\n",
       "      <th>z-statistic</th>\n",
       "      <th>p-value</th>\n",
       "      <th>[0.025</th>\n",
       "      <th>0.075]</th>\n",
       "    </tr>\n",
       "  </thead>\n",
       "  <tbody>\n",
       "    <tr>\n",
       "      <th>0</th>\n",
       "      <td>Intercept</td>\n",
       "      <td>-0.8607</td>\n",
       "      <td>0.2993</td>\n",
       "      <td>-2.8759</td>\n",
       "      <td>0.004</td>\n",
       "      <td>-1.4474</td>\n",
       "      <td>-0.2741</td>\n",
       "    </tr>\n",
       "    <tr>\n",
       "      <th>1</th>\n",
       "      <td>x0</td>\n",
       "      <td>0.0119</td>\n",
       "      <td>0.0013</td>\n",
       "      <td>8.8113</td>\n",
       "      <td>0.000</td>\n",
       "      <td>0.0092</td>\n",
       "      <td>0.0145</td>\n",
       "    </tr>\n",
       "    <tr>\n",
       "      <th>2</th>\n",
       "      <td>x1</td>\n",
       "      <td>-0.0290</td>\n",
       "      <td>0.0051</td>\n",
       "      <td>-5.6576</td>\n",
       "      <td>0.000</td>\n",
       "      <td>-0.0390</td>\n",
       "      <td>-0.0189</td>\n",
       "    </tr>\n",
       "  </tbody>\n",
       "</table>\n",
       "</div>"
      ],
      "text/plain": [
       "    Variable  Coefficient  Std Error  z-statistic  p-value  [0.025  0.075]\n",
       "0  Intercept      -0.8607     0.2993      -2.8759    0.004 -1.4474 -0.2741\n",
       "1         x0       0.0119     0.0013       8.8113    0.000  0.0092  0.0145\n",
       "2         x1      -0.0290     0.0051      -5.6576    0.000 -0.0390 -0.0189"
      ]
     },
     "metadata": {},
     "output_type": "display_data"
    }
   ],
   "source": [
    "start = time.time()\n",
    "n_model.fit(Xtrain, Ytrain)\n",
    "print(\"Newtons time to fit:\", time.time() - start)\n",
    "print(\"Newtons Iterations:\", n_model.iterations)\n",
    "print()\n",
    "\n",
    "print(\"Newtons Method Model Summary:\\n\")\n",
    "display(n_model.summary())"
   ]
  },
  {
   "cell_type": "code",
   "execution_count": 10,
   "id": "471845ca-2ed3-4e51-b8f2-018584f031a8",
   "metadata": {},
   "outputs": [
    {
     "name": "stdout",
     "output_type": "stream",
     "text": [
      "TEST Accuracy: 0.9473684210526315\n"
     ]
    }
   ],
   "source": [
    "# results on test data using 0.5 as threshold\n",
    "n_preds = n_model.predict(Xtest) > 0.5\n",
    "\n",
    "print(\"TEST Accuracy:\", np.sum(n_preds == Ytest) / len(Ytest))"
   ]
  },
  {
   "cell_type": "markdown",
   "id": "9af0cb97-2fc1-4ed5-8828-ffc86ff8b772",
   "metadata": {},
   "source": [
    "## Compare to Statsmodels\n",
    "\n",
    "Let's compare the `turtles` implementation to `statsmodels`."
   ]
  },
  {
   "cell_type": "code",
   "execution_count": 11,
   "id": "529077eb-a4ee-45a2-b9d9-3403c8005767",
   "metadata": {},
   "outputs": [],
   "source": [
    "import statsmodels.api as sm"
   ]
  },
  {
   "cell_type": "code",
   "execution_count": 12,
   "id": "ea512f50-0a2a-4d7c-bcf5-2f9d14b46c8c",
   "metadata": {},
   "outputs": [
    {
     "name": "stdout",
     "output_type": "stream",
     "text": [
      "Optimization terminated successfully.\n",
      "         Current function value: 0.172636\n",
      "         Iterations 9\n",
      "\n",
      "Statsmodels time to converage:  0.005274057388305664\n",
      "\n",
      "                           Logit Regression Results                           \n",
      "==============================================================================\n",
      "Dep. Variable:                      y   No. Observations:                  455\n",
      "Model:                          Logit   Df Residuals:                      452\n",
      "Method:                           MLE   Df Model:                            2\n",
      "Date:                Sat, 04 Oct 2025   Pseudo R-squ.:                  0.7359\n",
      "Time:                        12:40:27   Log-Likelihood:                -78.549\n",
      "converged:                       True   LL-Null:                       -297.42\n",
      "Covariance Type:            nonrobust   LLR p-value:                 8.823e-96\n",
      "==============================================================================\n",
      "                 coef    std err          z      P>|z|      [0.025      0.975]\n",
      "------------------------------------------------------------------------------\n",
      "const         -0.8608      0.299     -2.876      0.004      -1.447      -0.274\n",
      "x1             0.0119      0.001      8.811      0.000       0.009       0.015\n",
      "x2            -0.0290      0.005     -5.658      0.000      -0.039      -0.019\n",
      "==============================================================================\n",
      "\n",
      "Possibly complete quasi-separation: A fraction 0.13 of observations can be\n",
      "perfectly predicted. This might indicate that there is complete\n",
      "quasi-separation. In this case some parameters will not be identified.\n"
     ]
    }
   ],
   "source": [
    "Xtrain = sm.add_constant(Xtrain)\n",
    "\n",
    "start = time.time()\n",
    "log_reg = sm.Logit(Ytrain, Xtrain).fit()\n",
    "print()\n",
    "print(\"Statsmodels time to converage: \", time.time() - start)\n",
    "print()\n",
    "print(log_reg.summary())"
   ]
  },
  {
   "cell_type": "code",
   "execution_count": 13,
   "id": "a34e58d3-995a-4237-9164-ab82d077867f",
   "metadata": {},
   "outputs": [
    {
     "name": "stdout",
     "output_type": "stream",
     "text": [
      "Statsmodels TEST Accuracy: 0.9473684210526315\n"
     ]
    }
   ],
   "source": [
    "Xtest = sm.add_constant(Xtest)\n",
    "sm_preds = log_reg.predict(Xtest) > 0.5\n",
    "sm_preds = sm_preds.reshape((Ytest.shape[0], 1))\n",
    "\n",
    "print(\"Statsmodels TEST Accuracy:\", np.sum(sm_preds == Ytest) / len(Ytest))"
   ]
  },
  {
   "cell_type": "code",
   "execution_count": null,
   "id": "3c7ab142-9e41-454a-828b-1609b03c820b",
   "metadata": {},
   "outputs": [],
   "source": []
  }
 ],
 "metadata": {
  "kernelspec": {
   "display_name": "venv",
   "language": "python",
   "name": "python3"
  },
  "language_info": {
   "codemirror_mode": {
    "name": "ipython",
    "version": 3
   },
   "file_extension": ".py",
   "mimetype": "text/x-python",
   "name": "python",
   "nbconvert_exporter": "python",
   "pygments_lexer": "ipython3",
   "version": "3.12.8"
  }
 },
 "nbformat": 4,
 "nbformat_minor": 5
}
